{
 "cells": [
  {
   "cell_type": "code",
   "execution_count": 1,
   "id": "2cc50a36-b5b8-4d36-b9b8-5c854a2cf467",
   "metadata": {},
   "outputs": [
    {
     "name": "stdout",
     "output_type": "stream",
     "text": [
      "Requirement already satisfied: pandas in c:\\users\\kevwal\\anaconda3\\envs\\br\\lib\\site-packages (2.2.3)\n",
      "Requirement already satisfied: numpy in c:\\users\\kevwal\\anaconda3\\envs\\br\\lib\\site-packages (2.2.6)\n",
      "Requirement already satisfied: python-dateutil>=2.8.2 in c:\\users\\kevwal\\anaconda3\\envs\\br\\lib\\site-packages (from pandas) (2.9.0.post0)\n",
      "Requirement already satisfied: pytz>=2020.1 in c:\\users\\kevwal\\anaconda3\\envs\\br\\lib\\site-packages (from pandas) (2025.2)\n",
      "Requirement already satisfied: tzdata>=2022.7 in c:\\users\\kevwal\\anaconda3\\envs\\br\\lib\\site-packages (from pandas) (2025.2)\n",
      "Requirement already satisfied: six>=1.5 in c:\\users\\kevwal\\anaconda3\\envs\\br\\lib\\site-packages (from python-dateutil>=2.8.2->pandas) (1.17.0)\n",
      "Note: you may need to restart the kernel to use updated packages.\n"
     ]
    }
   ],
   "source": [
    "pip install pandas numpy"
   ]
  },
  {
   "cell_type": "code",
   "execution_count": 5,
   "id": "f5e36ccd-cfde-463b-8bd8-7ae7bf5d6550",
   "metadata": {},
   "outputs": [
    {
     "name": "stdout",
     "output_type": "stream",
     "text": [
      "C:/Users/KevWal/Downloads/20250515\n"
     ]
    }
   ],
   "source": [
    "\n",
    "import pandas as pd\n",
    "import tkinter\n",
    "from tkinter import filedialog\n",
    "\n",
    "# GUI folder picker\n",
    "tkinter.Tk().withdraw()\n",
    "folder_path = filedialog.askdirectory(title=\"Select Folder with .txt Files\")\n",
    "\n",
    "if not folder_path:\n",
    "    raise ValueError(\" No folder selected. Exiting script.\")\n",
    "print(folder_path)"
   ]
  },
  {
   "cell_type": "code",
   "execution_count": 4,
   "id": "a5bc88fc-04ae-4c34-ae03-79e3c22c68cd",
   "metadata": {},
   "outputs": [
    {
     "name": "stdout",
     "output_type": "stream",
     "text": [
      "C:/Users/KevWal/Downloads/20250515\n",
      "Saved: 10-27-51__algorithm_parsed.csv\n",
      "Saved: 10-28-00_kelly test 1_algorithm_parsed.csv\n",
      "Saved: 10-33-13_kelly test 2_algorithm_parsed.csv\n",
      "Saved: 10-49-58_kelly test 3 yr 80_algorithm_parsed.csv\n",
      "Saved: 11-10-32_kelly test 3 yr 70 downhill_algorithm_parsed.csv\n",
      "Saved: 11-13-44_kelly test 3 yr 70 downhill_algorithm_parsed.csv\n",
      "Saved: 11-20-59_kelly test 3 yr 70 car_algorithm_parsed.csv\n",
      "Saved: 11-25-04_kelly test 3 yr 70 car2_algorithm_parsed.csv\n",
      "Saved: 11-57-41_kelly test 4 new knee_algorithm_parsed.csv\n",
      "Saved: 12-11-53_kelly test 4 new knee 2_algorithm_parsed.csv\n",
      "Saved: 13-11-54_kelly test 4 new low_algorithm_parsed.csv\n",
      "Saved: 13-15-23_kelly test 4 new turn_algorithm_parsed.csv\n",
      "Saved: 13-18-24_kelly test 4 new turn 2_algorithm_parsed.csv\n",
      "Saved: 13-22-00_kelly test 4 new turn downhill 1_algorithm_parsed.csv\n",
      "Saved: 13-24-27_kelly test 4 new turn downhill 2_algorithm_parsed.csv\n",
      "Saved: 13-25-36_kelly test 4 new turn downhill 3_algorithm_parsed.csv\n",
      "Saved: 13-30-18_kelly test 4 new turn downhill 4_algorithm_parsed.csv\n",
      "Saved: 13-34-14_kelly test 4 new turn downhill bw_algorithm_parsed.csv\n",
      "Saved: 13-43-18_kelly test 4 new turn downhill bw 3_algorithm_parsed.csv\n",
      "Saved: 13-48-06_kelly test 4 new turn downhill bw kl_algorithm_parsed.csv\n",
      "Saved: 14-02-29_kelly test 4 new turn downhill bw sr_algorithm_parsed.csv\n",
      "Saved: 14-03-58_kelly test 4 new turn downhill bw sr 2_algorithm_parsed.csv\n",
      "Saved: 14-12-34_kelly test 4 new turn downhill bw run_algorithm_parsed.csv\n"
     ]
    }
   ],
   "source": [
    "import os\n",
    "import pandas as pd\n",
    "import json\n",
    "import tkinter as tk\n",
    "from tkinter import filedialog\n",
    "\n",
    "# GUI folder picker\n",
    "root = tk.Tk()\n",
    "root.withdraw()  # Hide the root window\n",
    "\n",
    "folder_path = filedialog.askdirectory(title=\"Select Folder with .txt Files\")\n",
    "\n",
    "if not folder_path:\n",
    "    raise ValueError(\"No folder selected. Exiting script.\")\n",
    "print(folder_path)\n",
    "\n",
    "DataFrame = {}\n",
    "for filename in os.listdir(folder_path):\n",
    "    if filename.endswith(\".txt\"):\n",
    "        full_path = os.path.join(folder_path, filename)\n",
    "\n",
    "        data = []\n",
    "        with open(full_path, \"r\") as file:\n",
    "            for line in file:\n",
    "                clean = line.strip().strip('\"').replace('\"\"','\"')\n",
    "                try:\n",
    "                    parsed = json.loads(clean)\n",
    "                    data.append(parsed)\n",
    "                except json.JSONDecodeError:\n",
    "                    print(f\"Error decoding line in {filename}\")\n",
    "\n",
    "        df = pd.json_normalize(data)\n",
    "\n",
    "        # Extract and rename\n",
    "        input_df = pd.DataFrame(df['input'].tolist()).add_prefix('input')\n",
    "        output_df = pd.DataFrame(df['output'].tolist()).add_prefix('output')\n",
    "        full_df = pd.concat([df[['sn', 'time']], input_df, output_df], axis=1)\n",
    "\n",
    "        # Rename columns\n",
    "        full_df.rename(columns={\n",
    "            'sn': 'sample_number',\n",
    "            'input0': 'mode',\n",
    "            'input1': 'phase',\n",
    "            'input2': 'flex_damp_measure',\n",
    "            'input3': 'ext_damp_measure',\n",
    "            'input4': 'knee_angle (degree)',\n",
    "            'input5': 'knee_velocity(degree/s)',\n",
    "            'input6': 'thigh_position(degree)',\n",
    "            'input7': 'thigh_velocity(degree/s)',\n",
    "            'input8': 'calf_position(degree)',\n",
    "            'input9': 'calf_velocity(degree/s)',\n",
    "            'input10': 'calf_ang_acc_smooth(degree/s)',\n",
    "            'input11': 'acc_abs_mag',\n",
    "            'input12': 'acc_vertical_world',\n",
    "            'input13': 'abs_knee_vel_avg(degree/s)',\n",
    "            'input14': 'knee_velocity_history',\n",
    "            'input15': 'reserved',\n",
    "            'output0': 'motor_flex',\n",
    "            'output1': 'motor_extent',\n",
    "            'time': 'timestamp'\n",
    "        }, inplace=True)\n",
    "\n",
    "        df_name = filename.replace('.txt', '')  # e.g., '10-27-51__algorithm'\n",
    "        DataFrame[df_name] = full_df  # Store in dictionary\n",
    "\n",
    "        # Save to CSV in the same or another folder\n",
    "        output_filename = filename.replace('.txt', '_parsed.csv')\n",
    "        full_df.to_csv(os.path.join(folder_path, output_filename), index=False)\n",
    "        print(f\"Saved: {output_filename}\")\n",
    "\n",
    "root.quit()  # Close the tkinter root window\n"
   ]
  },
  {
   "cell_type": "code",
   "execution_count": 13,
   "id": "b0301ff7-46c1-4ad6-b7a1-b77ea7b74f11",
   "metadata": {},
   "outputs": [
    {
     "data": {
      "text/plain": [
       "0        0\n",
       "1        0\n",
       "2        0\n",
       "3        0\n",
       "4        0\n",
       "        ..\n",
       "17566    0\n",
       "17567    0\n",
       "17568    0\n",
       "17569    0\n",
       "17570    0\n",
       "Name: mode, Length: 17571, dtype: int64"
      ]
     },
     "execution_count": 13,
     "metadata": {},
     "output_type": "execute_result"
    }
   ],
   "source": [
    "full_df['mode']\n",
    "#prefixes = [\"10-17-58\", \"10-15-29\"]"
   ]
  },
  {
   "cell_type": "code",
   "execution_count": null,
   "id": "7c9542ec-d912-4c3d-8751-ded4c0b2f80c",
   "metadata": {},
   "outputs": [],
   "source": [
    "#06/13 output naming adjustment for .txt\n",
    "# {\"sn\": 29736, \n",
    "#  \"mode\": 0, \n",
    "#  \"phase\": 0, \n",
    "#  \"flex_damp_measure\": 81, \n",
    "#  \"ext_damp_measure\": 4, \n",
    "#  \"knee_angle\": 0.1, \n",
    "#  \"knee_velocity\": 1.1, \n",
    "#  \"thigh_position\": -2.6, \n",
    "#  \"thigh_velocity\": 10.8, \n",
    "#  \"calf_position\": 2.8, \n",
    "#  \"calf_velocity\": -2.1, \n",
    "#  \"calf_ang_acc_smooth\": 8.0, \n",
    "#  \"acc_abs_mag\": 0.0, \n",
    "#  \"acc_vertical_world\": 0.0, \n",
    "#  \"abs_knee_vel_avg\": 2.2, \n",
    "#  \"knee_vel_history\": 0.1, \n",
    "#  \"reserved\": 20.0, \n",
    "#  \"motor_flex\": 81, \n",
    "#  \"motor_extent\": 4, \n",
    "#  \"time\": 1749845729.3617244}\n"
   ]
  },
  {
   "cell_type": "code",
   "execution_count": 5,
   "id": "349d9c0b-502e-46ba-8bf1-763aef92b692",
   "metadata": {},
   "outputs": [
    {
     "name": "stdout",
     "output_type": "stream",
     "text": [
      "C:/Users/KevWal/Downloads/20250515/data files\n",
      "Saved: 10-15-29__algorithm_parsed.csv\n",
      "Saved: 10-17-58__algorithm_parsed.csv\n"
     ]
    }
   ],
   "source": [
    "#updated 06/16, uses header names provided by file\n",
    "import os\n",
    "import pandas as pd\n",
    "import json\n",
    "import tkinter as tk\n",
    "from tkinter import filedialog\n",
    "\n",
    "# GUI folder picker\n",
    "root = tk.Tk()\n",
    "root.withdraw()  # Hide the root window\n",
    "\n",
    "folder_path = filedialog.askdirectory(title=\"Select Folder with .txt Files\")\n",
    "\n",
    "if not folder_path:\n",
    "    raise ValueError(\"No folder selected. Exiting script.\")\n",
    "print(folder_path)\n",
    "\n",
    "DataFrame = {}\n",
    "for filename in os.listdir(folder_path):\n",
    "    if filename.endswith(\".txt\"):\n",
    "        full_path = os.path.join(folder_path, filename)\n",
    "\n",
    "        data = []\n",
    "        with open(full_path, \"r\") as file:\n",
    "            for line in file:\n",
    "                clean = line.strip().strip('\"').replace('\"\"','\"')\n",
    "                try:\n",
    "                    parsed = json.loads(clean)\n",
    "                    data.append(parsed)\n",
    "                except json.JSONDecodeError:\n",
    "                    print(f\"Error decoding line in {filename}\")\n",
    "\n",
    "        df = pd.json_normalize(data)\n",
    "\n",
    "        # Extract and rename\n",
    "        # input_df = pd.DataFrame(df['input'].tolist()).add_prefix('input')\n",
    "        # output_df = pd.DataFrame(df['output'].tolist()).add_prefix('output')\n",
    "        # full_df = pd.concat([df['sn', 'time']], axis=1)\n",
    "        full_df = df\n",
    "        df_name = filename.replace('.txt', '')  # e.g., '10-27-51__algorithm'\n",
    "        DataFrame[df_name] = full_df  # Store in dictionary\n",
    "\n",
    "        # Save to CSV in the same or another folder\n",
    "        output_filename = filename.replace('.txt', '_parsed.csv')\n",
    "        full_df.to_csv(os.path.join(folder_path, output_filename), index=False)\n",
    "        print(f\"Saved: {output_filename}\")\n",
    "\n",
    "root.quit()  # Close the tkinter root window\n"
   ]
  }
 ],
 "metadata": {
  "kernelspec": {
   "display_name": "Python 3 (ipykernel)",
   "language": "python",
   "name": "python3"
  },
  "language_info": {
   "codemirror_mode": {
    "name": "ipython",
    "version": 3
   },
   "file_extension": ".py",
   "mimetype": "text/x-python",
   "name": "python",
   "nbconvert_exporter": "python",
   "pygments_lexer": "ipython3",
   "version": "3.12.9"
  }
 },
 "nbformat": 4,
 "nbformat_minor": 5
}
